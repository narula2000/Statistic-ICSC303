{
 "cells": [
  {
   "cell_type": "markdown",
   "metadata": {},
   "source": [
    "# Statistic ICSC303 Final Exam\n",
    "### Name: Vikrom Narula ID: 6081050"
   ]
  },
  {
   "cell_type": "markdown",
   "metadata": {},
   "source": [
    "## Question 1\n",
    "The National Center for Health Statistics interviewed 5409 adult smokers in 2020, and 2636\n",
    "of them said they had tried to quit smoking during the past year. Consider this to be a\n",
    "random sample."
   ]
  },
  {
   "cell_type": "markdown",
   "metadata": {},
   "source": [
    "a) Find a 95% confidence interval for the proportion of smokers who have tried\n",
    "to quit within the past year."
   ]
  },
  {
   "cell_type": "code",
   "execution_count": 7,
   "metadata": {},
   "outputs": [
    {
     "name": "stdout",
     "output_type": "stream",
     "text": [
      "Confidence Interval: 0.4740124 0.5006594"
     ]
    }
   ],
   "source": [
    "quit <- 2636 / 5409\n",
    "\n",
    "alpha <- 0.05\n",
    "len <- 5409\n",
    "df <- len - 1\n",
    "\n",
    "z <- qt(1 - alpha / 2, df=df)\n",
    "\n",
    "standE <- sqrt((quit * (1 - quit)) / len)\n",
    "\n",
    "cat(\"Confidence Interval:\", quit + c(-1, 1) * z * standE)"
   ]
  },
  {
   "cell_type": "markdown",
   "metadata": {},
   "source": [
    "b) Find a 99% confidence interval for the proportion of smokers who have tried\n",
    "to quit within the past year."
   ]
  },
  {
   "cell_type": "code",
   "execution_count": 8,
   "metadata": {},
   "outputs": [
    {
     "name": "stdout",
     "output_type": "stream",
     "text": [
      "Confidence Interval: 0.4698236 0.5048482"
     ]
    }
   ],
   "source": [
    "quit <- 2636 / 5409\n",
    "\n",
    "alpha <- 0.01\n",
    "len <- 5409\n",
    "df <- len - 1\n",
    "\n",
    "z <- qt(1 - alpha / 2, df=df)\n",
    "\n",
    "standE <- sqrt((quit * (1 - quit)) / len)\n",
    "\n",
    "cat(\"Confidence Interval:\", quit + c(-1, 1) * z * standE)"
   ]
  },
  {
   "cell_type": "markdown",
   "metadata": {},
   "source": [
    "c) Someone claims that the proportion is less than 0.5. With what level of\n",
    "confidence can this statement be made?"
   ]
  },
  {
   "cell_type": "markdown",
   "metadata": {},
   "source": [
    "Answer: 99%"
   ]
  },
  {
   "cell_type": "markdown",
   "metadata": {},
   "source": [
    "## Question 2\n",
    "An experiment was conducted to test the effect of a new drug on a viral infection. The\n",
    "infection was induced in 100 mice, and the mice were randomly split into two groups of 50.\n",
    "The first group, the control group, received no treatment for the infection. The second group\n",
    "received the drug. The proportions of survivors, and , in the two groups after a 30-day\n",
    "period, were found to be 0.40 and 0.64, respectively. Is there sufficient evidence to indicate\n",
    "that the drug is effective in treating the viral infection? Use α = 0.05."
   ]
  },
  {
   "cell_type": "markdown",
   "metadata": {},
   "source": [
    "a) Compute the test statistic."
   ]
  },
  {
   "cell_type": "code",
   "execution_count": 18,
   "metadata": {},
   "outputs": [
    {
     "data": {
      "text/html": [
       "-2.40192230707631"
      ],
      "text/latex": [
       "-2.40192230707631"
      ],
      "text/markdown": [
       "-2.40192230707631"
      ],
      "text/plain": [
       "[1] -2.401922"
      ]
     },
     "metadata": {},
     "output_type": "display_data"
    }
   ],
   "source": [
    "len <- 50\n",
    "control <- 0.4\n",
    "controlK <- 0.4 * len\n",
    "treatment <- 0.64\n",
    "treatmentK <- 0.64 * len \n",
    "\n",
    "\n",
    "\n",
    "z <- (control - treatment) / sqrt(((controlK + treatmentK) / 100)*(1 - (controlK + treatmentK) / 100)*(2 / len))\n",
    "z"
   ]
  },
  {
   "cell_type": "markdown",
   "metadata": {},
   "source": [
    "b) What is the critical value?"
   ]
  },
  {
   "cell_type": "code",
   "execution_count": 19,
   "metadata": {},
   "outputs": [
    {
     "name": "stdout",
     "output_type": "stream",
     "text": [
      "Critical Value(s) = -1.676551"
     ]
    }
   ],
   "source": [
    "cat(\"Critical Value(s) =\", qt(0.05, df=len - 1))"
   ]
  },
  {
   "cell_type": "markdown",
   "metadata": {},
   "source": [
    "c) What is the conclusion?"
   ]
  },
  {
   "cell_type": "markdown",
   "metadata": {},
   "source": [
    "$| H_a |$ > $| H_0 |$ Hence we reject null hypothesis cause we have to check for $| H_a |$ $\\ge$ $| H_0 |$"
   ]
  },
  {
   "cell_type": "markdown",
   "metadata": {},
   "source": [
    "## Question 3\n",
    "A national survey states that 67% of college students are under the age of 25, 21% are\n",
    "between the ages of 25 and 30, 8% are between 30 and 40, and 4% are over 40. A random\n",
    "sample of 250 students at Grand Rapids Community College yielded the following data:"
   ]
  },
  {
   "cell_type": "code",
   "execution_count": 23,
   "metadata": {},
   "outputs": [
    {
     "data": {
      "text/html": [
       "<table>\n",
       "<caption>A data.frame: 4 × 2</caption>\n",
       "<thead>\n",
       "\t<tr><th scope=col>Statistics</th><th scope=col>Freq</th></tr>\n",
       "\t<tr><th scope=col>&lt;fct&gt;</th><th scope=col>&lt;dbl&gt;</th></tr>\n",
       "</thead>\n",
       "<tbody>\n",
       "\t<tr><td>Under 25</td><td>138</td></tr>\n",
       "\t<tr><td>25 - 29 </td><td> 62</td></tr>\n",
       "\t<tr><td>30 - 40 </td><td> 32</td></tr>\n",
       "\t<tr><td>40+     </td><td> 18</td></tr>\n",
       "</tbody>\n",
       "</table>\n"
      ],
      "text/latex": [
       "A data.frame: 4 × 2\n",
       "\\begin{tabular}{ll}\n",
       " Statistics & Freq\\\\\n",
       " <fct> & <dbl>\\\\\n",
       "\\hline\n",
       "\t Under 25 & 138\\\\\n",
       "\t 25 - 29  &  62\\\\\n",
       "\t 30 - 40  &  32\\\\\n",
       "\t 40+      &  18\\\\\n",
       "\\end{tabular}\n"
      ],
      "text/markdown": [
       "\n",
       "A data.frame: 4 × 2\n",
       "\n",
       "| Statistics &lt;fct&gt; | Freq &lt;dbl&gt; |\n",
       "|---|---|\n",
       "| Under 25 | 138 |\n",
       "| 25 - 29  |  62 |\n",
       "| 30 - 40  |  32 |\n",
       "| 40+      |  18 |\n",
       "\n"
      ],
      "text/plain": [
       "  Statistics Freq\n",
       "1 Under 25   138 \n",
       "2 25 - 29     62 \n",
       "3 30 - 40     32 \n",
       "4 40+         18 "
      ]
     },
     "metadata": {},
     "output_type": "display_data"
    }
   ],
   "source": [
    "data = data.frame(\n",
    "  \"Statistics\"= c(\"Under 25\", \"25 - 29\", \"30 - 40\", \"40+\"),\n",
    "  \"Freq\"= c(138 , 62, 32, 18)) \n",
    "\n",
    "data"
   ]
  },
  {
   "cell_type": "markdown",
   "metadata": {},
   "source": [
    "a) Set up null and alternative hypotheses."
   ]
  },
  {
   "cell_type": "markdown",
   "metadata": {},
   "source": [
    "$H_0$: The college student ages agree with national survey. $p_1 = 0.67, p_2 = 0.21, p_3 = 0.08, p_4 = 0.04$;\n",
    "$H_a$: The college student ages disagree with national survey."
   ]
  },
  {
   "cell_type": "markdown",
   "metadata": {},
   "source": [
    "b) Compute the value of the test statistic $X^2$"
   ]
  },
  {
   "cell_type": "code",
   "execution_count": 24,
   "metadata": {},
   "outputs": [
    {
     "data": {
      "text/html": [
       "<table>\n",
       "<caption>A matrix: 4 × 1 of type dbl</caption>\n",
       "<tbody>\n",
       "\t<tr><td>138</td></tr>\n",
       "\t<tr><td> 62</td></tr>\n",
       "\t<tr><td> 32</td></tr>\n",
       "\t<tr><td> 18</td></tr>\n",
       "</tbody>\n",
       "</table>\n"
      ],
      "text/latex": [
       "A matrix: 4 × 1 of type dbl\n",
       "\\begin{tabular}{l}\n",
       "\t 138\\\\\n",
       "\t  62\\\\\n",
       "\t  32\\\\\n",
       "\t  18\\\\\n",
       "\\end{tabular}\n"
      ],
      "text/markdown": [
       "\n",
       "A matrix: 4 × 1 of type dbl\n",
       "\n",
       "| 138 |\n",
       "|  62 |\n",
       "|  32 |\n",
       "|  18 |\n",
       "\n"
      ],
      "text/plain": [
       "     [,1]\n",
       "[1,] 138 \n",
       "[2,]  62 \n",
       "[3,]  32 \n",
       "[4,]  18 "
      ]
     },
     "metadata": {},
     "output_type": "display_data"
    },
    {
     "data": {
      "text/plain": [
       "\n",
       "\tChi-squared test for given probabilities\n",
       "\n",
       "data:  mtx\n",
       "X-squared = 137.78, df = 3, p-value < 2.2e-16\n"
      ]
     },
     "metadata": {},
     "output_type": "display_data"
    }
   ],
   "source": [
    "mtx = matrix(c(138 , 62, 32, 18), nrow=4, byrow=T)\n",
    "mtx\n",
    "\n",
    "chisq.test(mtx)"
   ]
  },
  {
   "cell_type": "markdown",
   "metadata": {},
   "source": [
    "c) What is the p-value associated with the test?"
   ]
  },
  {
   "cell_type": "markdown",
   "metadata": {},
   "source": [
    "p-value = 2.2e-16"
   ]
  },
  {
   "cell_type": "markdown",
   "metadata": {},
   "source": [
    "d) What is the appropriate conclusion for α = 0.1?"
   ]
  },
  {
   "cell_type": "markdown",
   "metadata": {},
   "source": [
    "We reject the null hypothesis cause the p-cal is lesser than 0.1"
   ]
  },
  {
   "cell_type": "markdown",
   "metadata": {},
   "source": [
    "## Question 4\n",
    "A study was conducted to determine whether opinion concerning the addition of seat belts in\n",
    "school buses is independent of the population density in which a person resides. The\n",
    "following data was recorded:"
   ]
  },
  {
   "cell_type": "code",
   "execution_count": 26,
   "metadata": {},
   "outputs": [
    {
     "data": {
      "text/html": [
       "<table>\n",
       "<caption>A data.frame: 3 × 4</caption>\n",
       "<thead>\n",
       "\t<tr><th scope=col>Statistics</th><th scope=col>Rural</th><th scope=col>Suburban</th><th scope=col>Urban</th></tr>\n",
       "\t<tr><th scope=col>&lt;fct&gt;</th><th scope=col>&lt;dbl&gt;</th><th scope=col>&lt;dbl&gt;</th><th scope=col>&lt;dbl&gt;</th></tr>\n",
       "</thead>\n",
       "<tbody>\n",
       "\t<tr><td>Favor   </td><td>75</td><td>62</td><td>87</td></tr>\n",
       "\t<tr><td>Oppose  </td><td>40</td><td>34</td><td>39</td></tr>\n",
       "\t<tr><td>Undecied</td><td>13</td><td>18</td><td>12</td></tr>\n",
       "</tbody>\n",
       "</table>\n"
      ],
      "text/latex": [
       "A data.frame: 3 × 4\n",
       "\\begin{tabular}{llll}\n",
       " Statistics & Rural & Suburban & Urban\\\\\n",
       " <fct> & <dbl> & <dbl> & <dbl>\\\\\n",
       "\\hline\n",
       "\t Favor    & 75 & 62 & 87\\\\\n",
       "\t Oppose   & 40 & 34 & 39\\\\\n",
       "\t Undecied & 13 & 18 & 12\\\\\n",
       "\\end{tabular}\n"
      ],
      "text/markdown": [
       "\n",
       "A data.frame: 3 × 4\n",
       "\n",
       "| Statistics &lt;fct&gt; | Rural &lt;dbl&gt; | Suburban &lt;dbl&gt; | Urban &lt;dbl&gt; |\n",
       "|---|---|---|---|\n",
       "| Favor    | 75 | 62 | 87 |\n",
       "| Oppose   | 40 | 34 | 39 |\n",
       "| Undecied | 13 | 18 | 12 |\n",
       "\n"
      ],
      "text/plain": [
       "  Statistics Rural Suburban Urban\n",
       "1 Favor      75    62       87   \n",
       "2 Oppose     40    34       39   \n",
       "3 Undecied   13    18       12   "
      ]
     },
     "metadata": {},
     "output_type": "display_data"
    }
   ],
   "source": [
    "data = data.frame(\n",
    "  \"Statistics\"= c(\"Favor\", \"Oppose\", \"Undecied\"),\n",
    "  \"Rural\"= c(75, 40, 13),\n",
    "  \"Suburban\"= c(62, 34, 18),\n",
    "  \"Urban\"= c(87, 39, 12)\n",
    ") \n",
    "data"
   ]
  },
  {
   "cell_type": "markdown",
   "metadata": {},
   "source": [
    "a) Set up null and alternative hypotheses."
   ]
  },
  {
   "cell_type": "markdown",
   "metadata": {},
   "source": [
    "$H_0$: opinion concerning the addition of seat belts in school buses is dependent of the population density in which a person resides.;\n",
    "$H_a$: opinion concerning the addition of seat belts in school buses is independent of the population density in which a person resides."
   ]
  },
  {
   "cell_type": "markdown",
   "metadata": {},
   "source": [
    "b) Compute the value of the test statistic $X^2$"
   ]
  },
  {
   "cell_type": "code",
   "execution_count": 28,
   "metadata": {},
   "outputs": [
    {
     "data": {
      "text/html": [
       "<table>\n",
       "<caption>A matrix: 3 × 3 of type dbl</caption>\n",
       "<tbody>\n",
       "\t<tr><td>75</td><td>62</td><td>87</td></tr>\n",
       "\t<tr><td>40</td><td>34</td><td>39</td></tr>\n",
       "\t<tr><td>13</td><td>18</td><td>12</td></tr>\n",
       "</tbody>\n",
       "</table>\n"
      ],
      "text/latex": [
       "A matrix: 3 × 3 of type dbl\n",
       "\\begin{tabular}{lll}\n",
       "\t 75 & 62 & 87\\\\\n",
       "\t 40 & 34 & 39\\\\\n",
       "\t 13 & 18 & 12\\\\\n",
       "\\end{tabular}\n"
      ],
      "text/markdown": [
       "\n",
       "A matrix: 3 × 3 of type dbl\n",
       "\n",
       "| 75 | 62 | 87 |\n",
       "| 40 | 34 | 39 |\n",
       "| 13 | 18 | 12 |\n",
       "\n"
      ],
      "text/plain": [
       "     [,1] [,2] [,3]\n",
       "[1,] 75   62   87  \n",
       "[2,] 40   34   39  \n",
       "[3,] 13   18   12  "
      ]
     },
     "metadata": {},
     "output_type": "display_data"
    },
    {
     "data": {
      "text/plain": [
       "\n",
       "\tPearson's Chi-squared test\n",
       "\n",
       "data:  mtx\n",
       "X-squared = 4.0034, df = 4, p-value = 0.4055\n"
      ]
     },
     "metadata": {},
     "output_type": "display_data"
    }
   ],
   "source": [
    "mtx = matrix(c(75, 40, 13, 62, 34, 18, 87, 39, 12), nrow=3)\n",
    "mtx\n",
    "\n",
    "chisq.test(mtx)"
   ]
  },
  {
   "cell_type": "markdown",
   "metadata": {},
   "source": [
    "c) What is the p-value associated with the test?"
   ]
  },
  {
   "cell_type": "markdown",
   "metadata": {},
   "source": [
    "p-value = 0.4055"
   ]
  },
  {
   "cell_type": "markdown",
   "metadata": {},
   "source": [
    "d) What is the conclusion of the test?"
   ]
  },
  {
   "cell_type": "markdown",
   "metadata": {},
   "source": [
    "If given that alpha is 0.5 the p-value is lower so we rejec the null hypothesis and agree that opinion concerning the addition of seat belts in school buses is independent of the population density in which a person resides."
   ]
  },
  {
   "cell_type": "markdown",
   "metadata": {},
   "source": [
    "## Question 5\n",
    "The following measurements were recorded for the number of hours spent studying for a\n",
    "statistics exam selected from a class:\n",
    "\n",
    "32, 42, 40, 28, 22, 16, 18, 24, 36, 14, 30, 35, 42, 26, 30"
   ]
  },
  {
   "cell_type": "markdown",
   "metadata": {},
   "source": [
    "5.1) Find the sample mean and the standard deviation of the sample mean."
   ]
  },
  {
   "cell_type": "code",
   "execution_count": 35,
   "metadata": {},
   "outputs": [
    {
     "name": "stdout",
     "output_type": "stream",
     "text": [
      "Mean: 29 , Standard Diviation: 9.079018"
     ]
    }
   ],
   "source": [
    "data <- c(32, 42, 40, 28, 22, 16, 18, 24, 36, 14, 30, 35, 42, 26, 30)\n",
    "mu <- mean(data)\n",
    "SD <- sd(data)\n",
    "\n",
    "cat(\"Mean:\",mu,\", Standard Diviation:\", SD)"
   ]
  },
  {
   "cell_type": "markdown",
   "metadata": {},
   "source": [
    "5.2) Find the 99% confidence interval for the average number of hours spent\n",
    "studying for the exam for students in this class assuming that the number of hours are\n",
    "normally distributed."
   ]
  },
  {
   "cell_type": "code",
   "execution_count": 42,
   "metadata": {},
   "outputs": [
    {
     "data": {
      "text/plain": [
       "\n",
       "\tOne Sample t-test\n",
       "\n",
       "data:  data\n",
       "t = 0, df = 14, p-value = 1\n",
       "alternative hypothesis: true mean is not equal to 29\n",
       "99 percent confidence interval:\n",
       " 22.02171 35.97829\n",
       "sample estimates:\n",
       "mean of x \n",
       "       29 \n"
      ]
     },
     "metadata": {},
     "output_type": "display_data"
    },
    {
     "name": "stdout",
     "output_type": "stream",
     "text": [
      "Critical Value(s) = -1.675905"
     ]
    }
   ],
   "source": [
    "t.test(data, mu=mean, conf.level=0.99)\n",
    "\n",
    "## Critical Value qt(alpha, df)\n",
    "cat(\"Critical Value(s) =\", qt(0.05, df=50))"
   ]
  },
  {
   "cell_type": "markdown",
   "metadata": {},
   "source": [
    "5.3) Test the hypothesis if the average time spent studying for the exam is more\n",
    "than 30 hours at the significance level 0.05."
   ]
  },
  {
   "cell_type": "code",
   "execution_count": 44,
   "metadata": {},
   "outputs": [
    {
     "data": {
      "text/plain": [
       "\n",
       "\tOne Sample t-test\n",
       "\n",
       "data:  data\n",
       "t = 0, df = 14, p-value = 1\n",
       "alternative hypothesis: true mean is not equal to 29\n",
       "95 percent confidence interval:\n",
       " 23.97221 34.02779\n",
       "sample estimates:\n",
       "mean of x \n",
       "       29 \n"
      ]
     },
     "metadata": {},
     "output_type": "display_data"
    },
    {
     "name": "stdout",
     "output_type": "stream",
     "text": [
      "Critical Value(s) = -1.675905"
     ]
    }
   ],
   "source": [
    "t.test(data, mu=mean, conf.level=0.95)\n",
    "\n",
    "## Critical Value qt(alpha, df)\n",
    "cat(\"Critical Value(s) =\", qt(0.05, df=50))"
   ]
  },
  {
   "cell_type": "markdown",
   "metadata": {},
   "source": [
    "5.3.1) The null hypothesis is the average time spent studying for exam is less then 30 hours"
   ]
  },
  {
   "cell_type": "markdown",
   "metadata": {},
   "source": [
    "5.3.2) The alternative hypothesis is the average time spent studying is 30 hours or more"
   ]
  },
  {
   "cell_type": "markdown",
   "metadata": {},
   "source": [
    "5.3.3) The calculated test statistics is 0"
   ]
  },
  {
   "cell_type": "markdown",
   "metadata": {},
   "source": [
    "5.3.4) The critical region is greater 1.675905"
   ]
  },
  {
   "cell_type": "markdown",
   "metadata": {},
   "source": [
    "5.3.5) Decision Do not reject cause t is lesser"
   ]
  },
  {
   "cell_type": "markdown",
   "metadata": {},
   "source": [
    "5.3.6) The average time spent studying for exam is less then 30 hours"
   ]
  },
  {
   "cell_type": "markdown",
   "metadata": {},
   "source": [
    "## Question 6\n",
    "### 6.1\n",
    "The following data, recorded in hours, represent the length of time a\n",
    "recovery for patients from the symptom after taking the one of the two medicines."
   ]
  },
  {
   "cell_type": "code",
   "execution_count": 46,
   "metadata": {},
   "outputs": [
    {
     "data": {
      "text/html": [
       "<table>\n",
       "<caption>A data.frame: 3 × 3</caption>\n",
       "<thead>\n",
       "\t<tr><th scope=col>Statistics</th><th scope=col>Medicine.1</th><th scope=col>Medicine.2</th></tr>\n",
       "\t<tr><th scope=col>&lt;fct&gt;</th><th scope=col>&lt;dbl&gt;</th><th scope=col>&lt;dbl&gt;</th></tr>\n",
       "</thead>\n",
       "<tbody>\n",
       "\t<tr><td>Sample Size              </td><td>16.0</td><td>25.0</td></tr>\n",
       "\t<tr><td>Sample Mean              </td><td> 6.6</td><td> 7.2</td></tr>\n",
       "\t<tr><td>Sample Standard Deviation</td><td> 1.5</td><td> 2.1</td></tr>\n",
       "</tbody>\n",
       "</table>\n"
      ],
      "text/latex": [
       "A data.frame: 3 × 3\n",
       "\\begin{tabular}{lll}\n",
       " Statistics & Medicine.1 & Medicine.2\\\\\n",
       " <fct> & <dbl> & <dbl>\\\\\n",
       "\\hline\n",
       "\t Sample Size               & 16.0 & 25.0\\\\\n",
       "\t Sample Mean               &  6.6 &  7.2\\\\\n",
       "\t Sample Standard Deviation &  1.5 &  2.1\\\\\n",
       "\\end{tabular}\n"
      ],
      "text/markdown": [
       "\n",
       "A data.frame: 3 × 3\n",
       "\n",
       "| Statistics &lt;fct&gt; | Medicine.1 &lt;dbl&gt; | Medicine.2 &lt;dbl&gt; |\n",
       "|---|---|---|\n",
       "| Sample Size               | 16.0 | 25.0 |\n",
       "| Sample Mean               |  6.6 |  7.2 |\n",
       "| Sample Standard Deviation |  1.5 |  2.1 |\n",
       "\n"
      ],
      "text/plain": [
       "  Statistics                Medicine.1 Medicine.2\n",
       "1 Sample Size               16.0       25.0      \n",
       "2 Sample Mean                6.6        7.2      \n",
       "3 Sample Standard Deviation  1.5        2.1      "
      ]
     },
     "metadata": {},
     "output_type": "display_data"
    }
   ],
   "source": [
    "data = data.frame(\n",
    "  \"Statistics\"= c(\"Sample Size\", \"Sample Mean\", \"Sample Standard Deviation\"),\n",
    "  \"Medicine 1\"= c(16, 6.6 ,1.5),\n",
    "  \"Medicine 2\"= c(25, 7.2, 2.1)\n",
    ") \n",
    "data"
   ]
  },
  {
   "cell_type": "markdown",
   "metadata": {},
   "source": [
    "Find the 99% confidence interval of the difference between recovery times of the two\n",
    "medicines."
   ]
  },
  {
   "cell_type": "code",
   "execution_count": 49,
   "metadata": {},
   "outputs": [
    {
     "name": "stdout",
     "output_type": "stream",
     "text": [
      "Confidence Interval: -7.507662 6.307662"
     ]
    }
   ],
   "source": [
    "alpha <- 0.01\n",
    "\n",
    "SE <- sqrt(1.5^2 / 16 + 2.1^2 / 25)\n",
    "tHalf <- qt(1 - alpha / 2, df=16 - 1)\n",
    "cat(\"Confidence Interval:\", (6.6 - 7.2) + c(-1, 1) * tHalf * standE)"
   ]
  },
  {
   "cell_type": "markdown",
   "metadata": {},
   "source": [
    "### Question 6.2\n",
    "In this situation, we ask the same patients to take both medicines on different\n",
    "days. The following data present the number of hours each patient needs to recovery from\n",
    "the symptom after taking the two medicines."
   ]
  },
  {
   "cell_type": "code",
   "execution_count": 55,
   "metadata": {},
   "outputs": [
    {
     "data": {
      "text/html": [
       "<table>\n",
       "<caption>A data.frame: 4 × 3</caption>\n",
       "<thead>\n",
       "\t<tr><th scope=col>Statistics</th><th scope=col>Medicine.1</th><th scope=col>Medicine.2</th></tr>\n",
       "\t<tr><th scope=col>&lt;fct&gt;</th><th scope=col>&lt;dbl&gt;</th><th scope=col>&lt;dbl&gt;</th></tr>\n",
       "</thead>\n",
       "<tbody>\n",
       "\t<tr><td>1</td><td>3.6</td><td>4.2</td></tr>\n",
       "\t<tr><td>2</td><td>6.2</td><td>7.4</td></tr>\n",
       "\t<tr><td>3</td><td>4.8</td><td>4.6</td></tr>\n",
       "\t<tr><td>4</td><td>8.2</td><td>7.5</td></tr>\n",
       "</tbody>\n",
       "</table>\n"
      ],
      "text/latex": [
       "A data.frame: 4 × 3\n",
       "\\begin{tabular}{lll}\n",
       " Statistics & Medicine.1 & Medicine.2\\\\\n",
       " <fct> & <dbl> & <dbl>\\\\\n",
       "\\hline\n",
       "\t 1 & 3.6 & 4.2\\\\\n",
       "\t 2 & 6.2 & 7.4\\\\\n",
       "\t 3 & 4.8 & 4.6\\\\\n",
       "\t 4 & 8.2 & 7.5\\\\\n",
       "\\end{tabular}\n"
      ],
      "text/markdown": [
       "\n",
       "A data.frame: 4 × 3\n",
       "\n",
       "| Statistics &lt;fct&gt; | Medicine.1 &lt;dbl&gt; | Medicine.2 &lt;dbl&gt; |\n",
       "|---|---|---|\n",
       "| 1 | 3.6 | 4.2 |\n",
       "| 2 | 6.2 | 7.4 |\n",
       "| 3 | 4.8 | 4.6 |\n",
       "| 4 | 8.2 | 7.5 |\n",
       "\n"
      ],
      "text/plain": [
       "  Statistics Medicine.1 Medicine.2\n",
       "1 1          3.6        4.2       \n",
       "2 2          6.2        7.4       \n",
       "3 3          4.8        4.6       \n",
       "4 4          8.2        7.5       "
      ]
     },
     "metadata": {},
     "output_type": "display_data"
    },
    {
     "data": {
      "text/plain": [
       " Statistics   Medicine.1    Medicine.2   \n",
       " 1:1        Min.   :3.6   Min.   :4.200  \n",
       " 2:1        1st Qu.:4.5   1st Qu.:4.500  \n",
       " 3:1        Median :5.5   Median :6.000  \n",
       " 4:1        Mean   :5.7   Mean   :5.925  \n",
       "            3rd Qu.:6.7   3rd Qu.:7.425  \n",
       "            Max.   :8.2   Max.   :7.500  "
      ]
     },
     "metadata": {},
     "output_type": "display_data"
    }
   ],
   "source": [
    "data = data.frame(\n",
    "  \"Statistics\"= c(\"1\", \"2\", \"3\", \"4\"),\n",
    "  \"Medicine 1\"= c(3.6, 6.2, 4.8, 8.2),\n",
    "  \"Medicine 2\"= c(4.2, 7.4, 4.6, 7.5)\n",
    ") \n",
    "data\n",
    "\n",
    "summary(data)"
   ]
  },
  {
   "cell_type": "markdown",
   "metadata": {},
   "source": [
    "6.1.1) The null hypothesis is their is no diffrence in the medicine"
   ]
  },
  {
   "cell_type": "markdown",
   "metadata": {},
   "source": [
    "6.1.2) The alternative hypothesis is their is a diffrence in the medicine"
   ]
  },
  {
   "cell_type": "markdown",
   "metadata": {},
   "source": [
    "6.1.3) The calculated test statistics is"
   ]
  },
  {
   "cell_type": "code",
   "execution_count": 56,
   "metadata": {},
   "outputs": [
    {
     "name": "stdout",
     "output_type": "stream",
     "text": [
      "[1] \"tCal =-0.169650343047478, tHalf =3.18244630528371\"\n"
     ]
    }
   ],
   "source": [
    "alpha <- 0.05\n",
    "\n",
    "med1 <- c(3.6, 6.2, 4.8, 8.2)\n",
    "med2 <- c(4.2, 7.4, 4.6, 7.5)\n",
    "\n",
    "mean1 <- mean(med1)\n",
    "mean2 <- mean(med2)\n",
    "\n",
    "sd1 <- sd(med1)\n",
    "sd2 <- sd(med2)\n",
    "\n",
    "len1 <- length(med1)\n",
    "len2 <- length(med2)\n",
    "\n",
    "SE <- sqrt(sd1^2 / len1 + sd2^2 / len2)\n",
    "tCal <- (mean1 - mean2) / SE\n",
    "\n",
    "print(paste0(\"tCal =\", tCal, \", tHalf =\", qt(1 - (alpha / 2), min(len1 - 1, len2 - 1))))"
   ]
  },
  {
   "cell_type": "markdown",
   "metadata": {},
   "source": [
    "6.1.4) The critical region is 3.18244630528371"
   ]
  },
  {
   "cell_type": "markdown",
   "metadata": {},
   "source": [
    "6.1.5) Decision Don not reject cause tcal < tHalf"
   ]
  },
  {
   "cell_type": "markdown",
   "metadata": {},
   "source": [
    "## Question 7\n",
    "The table below represents weights (kilograms) per plot of coffee beans planted using\n",
    "different fertilizers. Test the hypothesis at the significant level 0.05 if there is no difference\n",
    "among different types of fertilizers."
   ]
  },
  {
   "cell_type": "code",
   "execution_count": 58,
   "metadata": {},
   "outputs": [
    {
     "data": {
      "text/html": [
       "<table>\n",
       "<caption>A data.frame: 4 × 4</caption>\n",
       "<thead>\n",
       "\t<tr><th scope=col>Statistics</th><th scope=col>T1</th><th scope=col>T2</th><th scope=col>T3</th></tr>\n",
       "\t<tr><th scope=col>&lt;fct&gt;</th><th scope=col>&lt;dbl&gt;</th><th scope=col>&lt;dbl&gt;</th><th scope=col>&lt;dbl&gt;</th></tr>\n",
       "</thead>\n",
       "<tbody>\n",
       "\t<tr><td>1</td><td>220</td><td>200</td><td>160</td></tr>\n",
       "\t<tr><td>2</td><td>160</td><td>240</td><td>170</td></tr>\n",
       "\t<tr><td>3</td><td>240</td><td>140</td><td>200</td></tr>\n",
       "\t<tr><td>4</td><td>180</td><td>160</td><td>140</td></tr>\n",
       "</tbody>\n",
       "</table>\n"
      ],
      "text/latex": [
       "A data.frame: 4 × 4\n",
       "\\begin{tabular}{llll}\n",
       " Statistics & T1 & T2 & T3\\\\\n",
       " <fct> & <dbl> & <dbl> & <dbl>\\\\\n",
       "\\hline\n",
       "\t 1 & 220 & 200 & 160\\\\\n",
       "\t 2 & 160 & 240 & 170\\\\\n",
       "\t 3 & 240 & 140 & 200\\\\\n",
       "\t 4 & 180 & 160 & 140\\\\\n",
       "\\end{tabular}\n"
      ],
      "text/markdown": [
       "\n",
       "A data.frame: 4 × 4\n",
       "\n",
       "| Statistics &lt;fct&gt; | T1 &lt;dbl&gt; | T2 &lt;dbl&gt; | T3 &lt;dbl&gt; |\n",
       "|---|---|---|---|\n",
       "| 1 | 220 | 200 | 160 |\n",
       "| 2 | 160 | 240 | 170 |\n",
       "| 3 | 240 | 140 | 200 |\n",
       "| 4 | 180 | 160 | 140 |\n",
       "\n"
      ],
      "text/plain": [
       "  Statistics T1  T2  T3 \n",
       "1 1          220 200 160\n",
       "2 2          160 240 170\n",
       "3 3          240 140 200\n",
       "4 4          180 160 140"
      ]
     },
     "metadata": {},
     "output_type": "display_data"
    }
   ],
   "source": [
    "data = data.frame(\n",
    "  \"Statistics\"= c(\"1\", \"2\", \"3\", \"4\"),\n",
    "  \"T1\"= c(220,160,240,180),\n",
    "  \"T2\"= c(200,240,140,160),\n",
    "  \"T3\"= c(160,170,200,140)\n",
    ") \n",
    "data"
   ]
  },
  {
   "cell_type": "markdown",
   "metadata": {},
   "source": [
    "7.1) The null hypothesis is theirs is diffrence between fertilizer"
   ]
  },
  {
   "cell_type": "markdown",
   "metadata": {},
   "source": [
    "7.2) The alternative hypothesis is theirs is no diffrence between fertilizer"
   ]
  },
  {
   "cell_type": "markdown",
   "metadata": {},
   "source": [
    "7.3) The F stat"
   ]
  },
  {
   "cell_type": "code",
   "execution_count": 59,
   "metadata": {},
   "outputs": [
    {
     "data": {
      "text/plain": [
       "       T1            T2            T3       \n",
       " Min.   :160   Min.   :140   Min.   :140.0  \n",
       " 1st Qu.:175   1st Qu.:155   1st Qu.:155.0  \n",
       " Median :200   Median :180   Median :165.0  \n",
       " Mean   :200   Mean   :185   Mean   :167.5  \n",
       " 3rd Qu.:225   3rd Qu.:210   3rd Qu.:177.5  \n",
       " Max.   :240   Max.   :240   Max.   :200.0  "
      ]
     },
     "metadata": {},
     "output_type": "display_data"
    },
    {
     "data": {
      "text/plain": [
       "            Df Sum Sq Mean Sq F value Pr(>F)\n",
       "ind          2   2117    1058   0.809  0.475\n",
       "Residuals    9  11775    1308               "
      ]
     },
     "metadata": {},
     "output_type": "display_data"
    }
   ],
   "source": [
    "## Combine all group\n",
    "combineG <- data.frame(\n",
    "    T1=c(220,160,240,180), \n",
    "    T2=c(200,240,140,160), \n",
    "    T3=c(160,170,200,140))\n",
    "\n",
    "summary(combineG)\n",
    "\n",
    "## Do the AVONA test\n",
    "answer <- aov(values ~ ind,data = stack(combineG))\n",
    "summary(answer)"
   ]
  },
  {
   "cell_type": "markdown",
   "metadata": {},
   "source": [
    "7.4) p-value 0.475"
   ]
  },
  {
   "cell_type": "markdown",
   "metadata": {},
   "source": [
    "7.5) Decision Do no reject cause p < 0.05 hecne do  not rteject\n",
    "Conculde  theirs is no diffrence between fertilizer"
   ]
  }
 ],
 "metadata": {
  "kernelspec": {
   "display_name": "R",
   "language": "R",
   "name": "ir"
  },
  "language_info": {
   "codemirror_mode": "r",
   "file_extension": ".r",
   "mimetype": "text/x-r-source",
   "name": "R",
   "pygments_lexer": "r",
   "version": "3.6.1"
  }
 },
 "nbformat": 4,
 "nbformat_minor": 4
}
